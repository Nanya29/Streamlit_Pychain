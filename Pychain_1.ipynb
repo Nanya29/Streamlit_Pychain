{
 "cells": [
  {
   "cell_type": "code",
   "execution_count": 1,
   "id": "584a61e8-d698-4e34-abee-f30c637732df",
   "metadata": {
    "tags": []
   },
   "outputs": [],
   "source": [
    "# Imports\n",
    "import streamlit as st\n",
    "from dataclasses import dataclass\n",
    "from typing import Any, List\n",
    "import datetime as datetime\n",
    "import pandas as pd\n",
    "import hashlib"
   ]
  },
  {
   "cell_type": "markdown",
   "id": "9d8ef611-5b37-4972-861a-d8e71c2e7123",
   "metadata": {},
   "source": [
    "# Step 1:\n",
    "### Create a \"Record\" Data Class\n"
   ]
  },
  {
   "cell_type": "code",
   "execution_count": 2,
   "id": "409a8cb5-f0e3-49ff-b500-0e0ee59b8450",
   "metadata": {
    "tags": []
   },
   "outputs": [],
   "source": [
    "@dataclass \n",
    "class Record:\n",
    "    sender :str\n",
    "    receiver :str\n",
    "    amount :float"
   ]
  },
  {
   "cell_type": "markdown",
   "id": "853b1c7b-3936-4696-9491-fd294f779fbf",
   "metadata": {},
   "source": [
    "# Step 2:\n",
    "### Modify the Existing Block Data Class to Store Record Data\n"
   ]
  },
  {
   "cell_type": "code",
   "execution_count": 3,
   "id": "694cf073-fa94-4f44-9aab-785801d9a069",
   "metadata": {
    "tags": []
   },
   "outputs": [],
   "source": [
    "@dataclass\n",
    "class Block:\n",
    "    record: Record\n",
    "    creator_id: int\n",
    "    prev_hash: str = \"0\"\n",
    "    timestamp: str = datetime.datetime.utcnow().strftime(\"%H:%M:%S\")\n",
    "    nonce: int = 0\n",
    "    \n",
    "    def hash_block(self):\n",
    "        sha = hashlib.sha256()\n",
    "\n",
    "        record = str(self.record).encode()\n",
    "        sha.update(record)\n",
    "\n",
    "        creator_id = str(self.creator_id).encode()\n",
    "        sha.update(creator_id)\n",
    "\n",
    "        timestamp = str(self.timestamp).encode()\n",
    "        sha.update(timestamp)\n",
    "\n",
    "        prev_hash = str(self.prev_hash).encode()\n",
    "        sha.update(prev_hash)\n",
    "\n",
    "        nonce = str(self.nonce).encode()\n",
    "        sha.update(nonce)\n",
    "\n",
    "        return sha.hexdigest()\n",
    "    \n"
   ]
  },
  {
   "cell_type": "code",
   "execution_count": 4,
   "id": "b30e5da5-5325-42cc-9c12-feb7c97eaeef",
   "metadata": {
    "tags": []
   },
   "outputs": [],
   "source": [
    "@dataclass\n",
    "class PyChain:\n",
    "    chain: List[Block]\n",
    "    difficulty: int = 4\n",
    "\n",
    "    def proof_of_work(self, block):\n",
    "\n",
    "        calculated_hash = block.hash_block()\n",
    "\n",
    "        num_of_zeros = \"0\" * self.difficulty\n",
    "\n",
    "        while not calculated_hash.startswith(num_of_zeros):\n",
    "\n",
    "            block.nonce += 1\n",
    "\n",
    "            calculated_hash = block.hash_block()\n",
    "\n",
    "        print(\"Wining Hash\", calculated_hash)\n",
    "        return block\n",
    "\n",
    "    def add_block(self, candidate_block):\n",
    "        block = self.proof_of_work(candidate_block)\n",
    "        self.chain += [block]\n",
    "\n",
    "    def is_valid(self):\n",
    "        block_hash = self.chain[0].hash_block()\n",
    "\n",
    "        for block in self.chain[1:]:\n",
    "            if block_hash != block.prev_hash:\n",
    "                print(\"Blockchain is invalid!\")\n",
    "                return False\n",
    "\n",
    "            block_hash = block.hash_block()\n",
    "\n",
    "        print(\"Blockchain is Valid\")\n",
    "        return True"
   ]
  },
  {
   "cell_type": "code",
   "execution_count": 5,
   "id": "8a60a221-e03e-4cc4-8bca-c70c51ad3151",
   "metadata": {},
   "outputs": [
    {
     "name": "stderr",
     "output_type": "stream",
     "text": [
      "2024-03-26 23:35:16.900 \n",
      "  \u001b[33m\u001b[1mWarning:\u001b[0m to view this Streamlit app on a browser, run it with the following\n",
      "  command:\n",
      "\n",
      "    streamlit run C:\\Users\\princ\\anaconda3\\envs\\alpacaenv\\lib\\site-packages\\ipykernel_launcher.py [ARGUMENTS]\n"
     ]
    },
    {
     "name": "stdout",
     "output_type": "stream",
     "text": [
      "Initializing Chain\n"
     ]
    }
   ],
   "source": [
    "# Adds the cache decorator for Streamlit\n",
    "# Adds the cache decorator for Streamlit\n",
    "@st.cache_resource()\n",
    "def setup():\n",
    "    print(\"Initializing Chain\")\n",
    "    # Initialize the chain with a genesis block\n",
    "    return PyChain([Block(\"Genesis\", 0)])\n",
    "\n",
    "\n",
    "st.markdown(\"# PyChain\")\n",
    "st.markdown(\"## Store a Transaction Record in the PyChain\")\n",
    "\n",
    "pychain = setup()\n"
   ]
  },
  {
   "cell_type": "markdown",
   "id": "38449354-3f87-42c1-97b1-d788a7902d00",
   "metadata": {},
   "source": [
    "# Step 3\n",
    "###  Add Relevant User Inputs to the Streamlit Interface\n"
   ]
  },
  {
   "cell_type": "code",
   "execution_count": 6,
   "id": "1287b218-d7df-4748-99e3-121edf4c94a4",
   "metadata": {},
   "outputs": [],
   "source": [
    "# Delete the `input_data` variable from the Streamlit interface.\n",
    "\n",
    "# Add an input area where you can get a value for `sender` from the user.\n",
    "sender = st.text_input(\"Sender\")\n",
    "\n",
    "# Add an input area where you can get a value for `receiver` from the user.\n",
    "receiver = st.text_input(\"Receiver\") \n",
    "\n",
    "# Add an input area where you can get a value for `amount` from the user.\n",
    "amount = st.number_input(\"Amount\")   "
   ]
  },
  {
   "cell_type": "code",
   "execution_count": 7,
   "id": "4f1c976e-08da-41b6-8409-8f2372189650",
   "metadata": {},
   "outputs": [],
   "source": [
    "if st.button(\"Add Block\"):\n",
    "    prev_block = pychain.chain[-1]\n",
    "    prev_block_hash = prev_block.hash_block()\n",
    "\n",
    "    # @TODO\n",
    "    # Update `new_block` so that `Block` consists of an attribute named `record`\n",
    "    # which is set equal to a `Record` that contains the `sender`, `receiver`,\n",
    "    # and `amount` values\n",
    "    new_record = Record(\n",
    "        sender=sender, \n",
    "        receiver=receiver, \n",
    "        amount=amount\n",
    "    )\n",
    "    \n",
    "    new_block = Block(\n",
    "        record= new_record,\n",
    "        creator_id=42,\n",
    "        prev_hash=prev_block_hash\n",
    "    )\n",
    "\n",
    "    pychain.add_block(new_block)\n",
    "    st.balloons()\n",
    "\n",
    "    "
   ]
  },
  {
   "cell_type": "code",
   "execution_count": 8,
   "id": "d9e64af4-54ce-4031-b30b-c91d9fad930a",
   "metadata": {},
   "outputs": [],
   "source": [
    "st.markdown(\"## The PyChain Ledger\")\n",
    "\n",
    "\n",
    "pychain_df = pd.DataFrame(pychain.chain).astype(str)\n",
    "st.write(pychain_df)\n",
    "\n",
    "difficulty = st.sidebar.slider(\"Block Difficulty\", 1, 5, 2)\n",
    "pychain.difficulty = difficulty\n",
    "\n",
    "st.sidebar.write(\"# Block Inspector\")\n",
    "selected_block = st.sidebar.selectbox(\n",
    "    \"Which block would you like to see?\", pychain.chain\n",
    ")\n",
    "\n",
    "st.sidebar.write(selected_block)\n",
    "\n",
    "if st.button(\"Validate Chain\"):\n",
    "    st.write(pychain.is_valid())"
   ]
  },
  {
   "cell_type": "code",
   "execution_count": null,
   "id": "600202a0-a69f-45f3-b0f8-c22687eccd70",
   "metadata": {},
   "outputs": [],
   "source": []
  }
 ],
 "metadata": {
  "kernelspec": {
   "display_name": "Python 3 (ipykernel)",
   "language": "python",
   "name": "python3"
  },
  "language_info": {
   "codemirror_mode": {
    "name": "ipython",
    "version": 3
   },
   "file_extension": ".py",
   "mimetype": "text/x-python",
   "name": "python",
   "nbconvert_exporter": "python",
   "pygments_lexer": "ipython3",
   "version": "3.10.13"
  }
 },
 "nbformat": 4,
 "nbformat_minor": 5
}
